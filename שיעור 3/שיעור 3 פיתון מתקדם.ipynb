{
 "cells": [
  {
   "cell_type": "code",
   "execution_count": null,
   "id": "c4a5578a-5796-4048-98bd-b26eac52b22b",
   "metadata": {},
   "outputs": [],
   "source": [
    "צרי מערך באורך 10 של מספרים שלמים רנדומליים בין 1 ל-50 וחשבי את הממוצע של המספרים\n"
   ]
  },
  {
   "cell_type": "code",
   "execution_count": 3,
   "id": "a897fc53-e9bc-4bc2-88b1-a76d86e3e267",
   "metadata": {},
   "outputs": [
    {
     "name": "stdout",
     "output_type": "stream",
     "text": [
      "Collecting numpy\n",
      "  Downloading numpy-1.26.4-cp310-cp310-win_amd64.whl.metadata (61 kB)\n",
      "     ---------------------------------------- 0.0/61.0 kB ? eta -:--:--\n",
      "     ------------------------- ------------ 41.0/61.0 kB 653.6 kB/s eta 0:00:01\n",
      "     -------------------------------------- 61.0/61.0 kB 819.4 kB/s eta 0:00:00\n",
      "Downloading numpy-1.26.4-cp310-cp310-win_amd64.whl (15.8 MB)\n",
      "   ---------------------------------------- 0.0/15.8 MB ? eta -:--:--\n",
      "   ---------------------------------------- 0.0/15.8 MB 1.4 MB/s eta 0:00:12\n",
      "   ---------------------------------------- 0.1/15.8 MB 1.3 MB/s eta 0:00:12\n",
      "    --------------------------------------- 0.2/15.8 MB 1.7 MB/s eta 0:00:10\n",
      "   - -------------------------------------- 0.5/15.8 MB 3.0 MB/s eta 0:00:06\n",
      "   -- ------------------------------------- 0.9/15.8 MB 4.0 MB/s eta 0:00:04\n",
      "   --- ------------------------------------ 1.3/15.8 MB 4.9 MB/s eta 0:00:03\n",
      "   ---- ----------------------------------- 1.7/15.8 MB 5.5 MB/s eta 0:00:03\n",
      "   ----- ---------------------------------- 2.2/15.8 MB 6.0 MB/s eta 0:00:03\n",
      "   ------ --------------------------------- 2.6/15.8 MB 6.4 MB/s eta 0:00:03\n",
      "   ------- -------------------------------- 3.0/15.8 MB 6.7 MB/s eta 0:00:02\n",
      "   -------- ------------------------------- 3.5/15.8 MB 6.9 MB/s eta 0:00:02\n",
      "   --------- ------------------------------ 3.9/15.8 MB 7.1 MB/s eta 0:00:02\n",
      "   ---------- ----------------------------- 4.3/15.8 MB 7.2 MB/s eta 0:00:02\n",
      "   ----------- ---------------------------- 4.7/15.8 MB 7.5 MB/s eta 0:00:02\n",
      "   ------------ --------------------------- 4.8/15.8 MB 7.2 MB/s eta 0:00:02\n",
      "   ------------- -------------------------- 5.4/15.8 MB 7.3 MB/s eta 0:00:02\n",
      "   -------------- ------------------------- 5.8/15.8 MB 7.4 MB/s eta 0:00:02\n",
      "   --------------- ------------------------ 6.2/15.8 MB 7.5 MB/s eta 0:00:02\n",
      "   ---------------- ----------------------- 6.6/15.8 MB 7.5 MB/s eta 0:00:02\n",
      "   ----------------- ---------------------- 7.1/15.8 MB 7.8 MB/s eta 0:00:02\n",
      "   ------------------ --------------------- 7.5/15.8 MB 7.7 MB/s eta 0:00:02\n",
      "   -------------------- ------------------- 7.9/15.8 MB 7.8 MB/s eta 0:00:02\n",
      "   -------------------- ------------------- 8.3/15.8 MB 7.9 MB/s eta 0:00:01\n",
      "   --------------------- ------------------ 8.6/15.8 MB 7.9 MB/s eta 0:00:01\n",
      "   ---------------------- ----------------- 9.1/15.8 MB 7.8 MB/s eta 0:00:01\n",
      "   ------------------------ --------------- 9.6/15.8 MB 7.9 MB/s eta 0:00:01\n",
      "   ------------------------- -------------- 10.0/15.8 MB 8.0 MB/s eta 0:00:01\n",
      "   -------------------------- ------------- 10.4/15.8 MB 8.7 MB/s eta 0:00:01\n",
      "   --------------------------- ------------ 10.8/15.8 MB 9.0 MB/s eta 0:00:01\n",
      "   ---------------------------- ----------- 11.2/15.8 MB 8.8 MB/s eta 0:00:01\n",
      "   ----------------------------- ---------- 11.6/15.8 MB 8.8 MB/s eta 0:00:01\n",
      "   ------------------------------ --------- 12.0/15.8 MB 8.8 MB/s eta 0:00:01\n",
      "   ------------------------------- -------- 12.4/15.8 MB 8.8 MB/s eta 0:00:01\n",
      "   -------------------------------- ------- 12.8/15.8 MB 8.8 MB/s eta 0:00:01\n",
      "   --------------------------------- ------ 13.2/15.8 MB 8.8 MB/s eta 0:00:01\n",
      "   ---------------------------------- ----- 13.6/15.8 MB 8.8 MB/s eta 0:00:01\n",
      "   ----------------------------------- ---- 14.0/15.8 MB 8.8 MB/s eta 0:00:01\n",
      "   ------------------------------------ --- 14.4/15.8 MB 8.8 MB/s eta 0:00:01\n",
      "   ------------------------------------- -- 14.9/15.8 MB 8.7 MB/s eta 0:00:01\n",
      "   -------------------------------------- - 15.3/15.8 MB 9.0 MB/s eta 0:00:01\n",
      "   ---------------------------------------  15.7/15.8 MB 9.0 MB/s eta 0:00:01\n",
      "   ---------------------------------------- 15.8/15.8 MB 8.7 MB/s eta 0:00:00\n",
      "Installing collected packages: numpy\n",
      "Note: you may need to restart the kernel to use updated packages.\n"
     ]
    },
    {
     "name": "stderr",
     "output_type": "stream",
     "text": [
      "  WARNING: Failed to write executable - trying to use .deleteme logic\n",
      "ERROR: Could not install packages due to an OSError: [WinError 2] The system cannot find the file specified: 'C:\\\\Python310\\\\Scripts\\\\f2py.exe' -> 'C:\\\\Python310\\\\Scripts\\\\f2py.exe.deleteme'\n",
      "\n",
      "\n",
      "[notice] A new release of pip is available: 23.3.2 -> 24.0\n",
      "[notice] To update, run: python.exe -m pip install --upgrade pip\n"
     ]
    }
   ],
   "source": [
    "pip install numpy\n"
   ]
  },
  {
   "cell_type": "code",
   "execution_count": null,
   "id": "dd98702e-bfe6-4770-be35-9681f9bf4226",
   "metadata": {},
   "outputs": [],
   "source": []
  },
  {
   "cell_type": "code",
   "execution_count": 4,
   "id": "e4ed9745-958f-43e0-8c60-6f84a834e4e1",
   "metadata": {},
   "outputs": [],
   "source": [
    "import numpy as np\n"
   ]
  },
  {
   "cell_type": "code",
   "execution_count": 12,
   "id": "3e81e758-e2fb-4f11-8db0-f79fbebaa953",
   "metadata": {},
   "outputs": [
    {
     "data": {
      "text/plain": [
       "23.0"
      ]
     },
     "execution_count": 12,
     "metadata": {},
     "output_type": "execute_result"
    }
   ],
   "source": [
    "arr =  np.random.randint(1, 50,size=10)\n",
    "\n",
    "arr.mean()"
   ]
  },
  {
   "cell_type": "code",
   "execution_count": 21,
   "id": "cd2c50c7-ef2a-4891-9d7f-ce8bb84451dc",
   "metadata": {},
   "outputs": [
    {
     "data": {
      "text/plain": [
       "1"
      ]
     },
     "execution_count": 21,
     "metadata": {},
     "output_type": "execute_result"
    }
   ],
   "source": [
    "np.ndim(arr)"
   ]
  },
  {
   "cell_type": "code",
   "execution_count": 22,
   "id": "81e5cbf7-cdfe-4e79-b288-7a86281ce815",
   "metadata": {},
   "outputs": [
    {
     "data": {
      "text/plain": [
       "10"
      ]
     },
     "execution_count": 22,
     "metadata": {},
     "output_type": "execute_result"
    }
   ],
   "source": [
    "arr.size"
   ]
  },
  {
   "cell_type": "code",
   "execution_count": 13,
   "id": "b9434080-f5f0-49ae-9b34-d074194dac66",
   "metadata": {},
   "outputs": [
    {
     "data": {
      "text/plain": [
       "array([13, 40, 41, 15,  9, 47,  1, 17,  3, 44])"
      ]
     },
     "execution_count": 13,
     "metadata": {},
     "output_type": "execute_result"
    }
   ],
   "source": [
    "arr"
   ]
  },
  {
   "cell_type": "code",
   "execution_count": 24,
   "id": "adb5747b-2ad5-46eb-a91c-c7eb95e7bd2a",
   "metadata": {},
   "outputs": [
    {
     "data": {
      "text/plain": [
       "(2, 5)"
      ]
     },
     "execution_count": 24,
     "metadata": {},
     "output_type": "execute_result"
    }
   ],
   "source": [
    "ar=np.random.randint(10, 100,size=(2,5))\n",
    "ar.shape"
   ]
  },
  {
   "cell_type": "code",
   "execution_count": 14,
   "id": "765d3db1-17d0-4798-b340-25f9c041e109",
   "metadata": {},
   "outputs": [
    {
     "data": {
      "text/plain": [
       "array([[7, 7, 1],\n",
       "       [9, 7, 3]])"
      ]
     },
     "execution_count": 14,
     "metadata": {},
     "output_type": "execute_result"
    }
   ],
   "source": [
    "arr1 =  np.random.randint(1, 10,size=(2,3))\n",
    "arr2 =  np.random.randint(1,10,size=(2,3))\n",
    "arr1"
   ]
  },
  {
   "cell_type": "code",
   "execution_count": 15,
   "id": "d614f916-a054-4e7b-a5b5-9e6597f15d5e",
   "metadata": {},
   "outputs": [
    {
     "data": {
      "text/plain": [
       "array([[4, 3, 6],\n",
       "       [3, 4, 1]])"
      ]
     },
     "execution_count": 15,
     "metadata": {},
     "output_type": "execute_result"
    }
   ],
   "source": [
    "arr2"
   ]
  },
  {
   "cell_type": "code",
   "execution_count": 16,
   "id": "c54012b0-0b1b-4559-b872-35c529f254ef",
   "metadata": {},
   "outputs": [],
   "source": [
    "ab = np.add(arr1,arr2)"
   ]
  },
  {
   "cell_type": "code",
   "execution_count": 17,
   "id": "753a198f-2e14-4e44-8783-ed2c0fdee6d7",
   "metadata": {},
   "outputs": [
    {
     "data": {
      "text/plain": [
       "array([[11, 10,  7],\n",
       "       [12, 11,  4]])"
      ]
     },
     "execution_count": 17,
     "metadata": {},
     "output_type": "execute_result"
    }
   ],
   "source": [
    "ab"
   ]
  },
  {
   "cell_type": "code",
   "execution_count": 18,
   "id": "f29f03b2-ebde-4718-a33a-616c151c0db7",
   "metadata": {},
   "outputs": [
    {
     "data": {
      "text/plain": [
       "9.166666666666666"
      ]
     },
     "execution_count": 18,
     "metadata": {},
     "output_type": "execute_result"
    }
   ],
   "source": [
    "ab.mean()"
   ]
  },
  {
   "cell_type": "code",
   "execution_count": 19,
   "id": "3d168cb4-0cb8-4a20-a7e7-b194f214cf79",
   "metadata": {},
   "outputs": [
    {
     "data": {
      "text/plain": [
       "array([53,  3, 44, 35, 84, 74, 39,  2, 71,  4,  4, 21, 37, 90, 46, 80, 45,\n",
       "       53, 87, 69])"
      ]
     },
     "execution_count": 19,
     "metadata": {},
     "output_type": "execute_result"
    }
   ],
   "source": [
    "arr3 =  np.random.randint(1, 100,size=20)\n",
    "arr3"
   ]
  },
  {
   "cell_type": "code",
   "execution_count": 20,
   "id": "d7cc9f0d-6b6d-4660-b569-c8d7345a3d1c",
   "metadata": {},
   "outputs": [
    {
     "data": {
      "text/plain": [
       "array([53, 84, 74, 71, 90, 80, 53, 87, 69])"
      ]
     },
     "execution_count": 20,
     "metadata": {},
     "output_type": "execute_result"
    }
   ],
   "source": [
    "condition = arr3 > 50\n",
    "filtered_arr = arr3[condition]\n",
    "filtered_arr"
   ]
  },
  {
   "cell_type": "code",
   "execution_count": null,
   "id": "b79a06ad-f1ab-490e-a2be-0c8a66114cf4",
   "metadata": {},
   "outputs": [],
   "source": [
    "arr4 =  np.random.randint(1, 50,size=10)\n"
   ]
  }
 ],
 "metadata": {
  "kernelspec": {
   "display_name": "Python 3 (ipykernel)",
   "language": "python",
   "name": "python3"
  },
  "language_info": {
   "codemirror_mode": {
    "name": "ipython",
    "version": 3
   },
   "file_extension": ".py",
   "mimetype": "text/x-python",
   "name": "python",
   "nbconvert_exporter": "python",
   "pygments_lexer": "ipython3",
   "version": "3.10.8"
  }
 },
 "nbformat": 4,
 "nbformat_minor": 5
}
